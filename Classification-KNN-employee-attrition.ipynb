{
  "nbformat": 4,
  "nbformat_minor": 0,
  "metadata": {
    "colab": {
      "provenance": [],
      "authorship_tag": "ABX9TyN7CsuE2n1sHxEOFsDBiS4G",
      "include_colab_link": true
    },
    "kernelspec": {
      "name": "python3",
      "display_name": "Python 3"
    },
    "language_info": {
      "name": "python"
    }
  },
  "cells": [
    {
      "cell_type": "markdown",
      "metadata": {
        "id": "view-in-github",
        "colab_type": "text"
      },
      "source": [
        "<a href=\"https://colab.research.google.com/github/palfans/HCL_GENAI_TRAINING/blob/main/Classification-KNN-employee-attrition.ipynb\" target=\"_parent\"><img src=\"https://colab.research.google.com/assets/colab-badge.svg\" alt=\"Open In Colab\"/></a>"
      ]
    },
    {
      "cell_type": "code",
      "execution_count": 3,
      "metadata": {
        "colab": {
          "base_uri": "https://localhost:8080/"
        },
        "id": "hRWEo_znnTLU",
        "outputId": "6d489902-38f3-4790-d085-ac77aa7e0940"
      },
      "outputs": [
        {
          "output_type": "stream",
          "name": "stdout",
          "text": [
            "Accuracy: 1.0\n",
            "              precision    recall  f1-score   support\n",
            "\n",
            "           0       1.00      1.00      1.00         4\n",
            "           1       1.00      1.00      1.00         2\n",
            "\n",
            "    accuracy                           1.00         6\n",
            "   macro avg       1.00      1.00      1.00         6\n",
            "weighted avg       1.00      1.00      1.00         6\n",
            "\n"
          ]
        }
      ],
      "source": [
        "import pandas as pd\n",
        "from sklearn.preprocessing import LabelEncoder, StandardScaler\n",
        "from sklearn.model_selection import train_test_split\n",
        "from sklearn.neighbors import KNeighborsClassifier\n",
        "from sklearn.metrics import accuracy_score, classification_report\n",
        "\n",
        "# Create the dataset manually\n",
        "data = {\n",
        "    \"Age\": [29,35,40,28,45,25,50,30,37,26,31,27,39,41,36,33,34,47,24,43,38,28,31,44,49,32,32,29,26,35],\n",
        "    \"JobRole\": [\n",
        "        \"Sales Executive\", \"Research Scientist\", \"Laboratory Technician\",\n",
        "        \"Sales Executive\", \"Manager\", \"Research Scientist\", \"Manager\",\n",
        "        \"Sales Executive\", \"Laboratory Technician\", \"Research Scientist\",\n",
        "        \"Manager\", \"Sales Executive\", \"Sales Executive\", \"Manager\",\n",
        "        \"Laboratory Technician\", \"Research Scientist\", \"Laboratory Technician\",\n",
        "        \"Manager\", \"Laboratory Technician\", \"Sales Executive\", \"Manager\",\n",
        "        \"Research Scientist\", \"Manager\", \"Laboratory Technician\",\n",
        "        \"Manager\", \"Research Scientist\", \"Sales Executive\", \"Research Scientist\",\n",
        "        \"Laboratory Technician\", \"Sales Executive\"\n",
        "    ],\n",
        "    \"MonthlyIncome\": [\n",
        "        4800,6000,3400,4300,11000,3500,12000,5000,3100,4500,7000,4000,3700,11500,\n",
        "        3900,6200,3600,10100,3300,5500,9000,4200,7100,8000,10300,6000,4050,4700,3450,4300\n",
        "    ],\n",
        "    \"JobSatisfaction\": [\n",
        "        3,4,2,3,4,1,4,2,2,3,3,2,4,3,1,3,2,4,1,3,3,4,2,3,2,4,1,3,2,3\n",
        "    ],\n",
        "    \"YearsAtCompany\": [\n",
        "        4,8,6,3,15,2,20,5,9,2,10,3,5,17,8,9,2,18,2,11,14,5,11,7,19,6,4,6,3,8\n",
        "    ],\n",
        "    \"Attrition\": [\n",
        "        1,0,0,1,0,1,0,0,0,1,0,1,1,0,0,0,1,0,1,0,0,1,0,0,0,0,1,1,1,0\n",
        "    ]\n",
        "}\n",
        "df = pd.DataFrame(data)\n",
        "\n",
        "# Encode the categorical feature 'JobRole'\n",
        "le = LabelEncoder()\n",
        "df['JobRole'] = le.fit_transform(df['JobRole'])\n",
        "\n",
        "# Separate the features and the target\n",
        "X = df.drop('Attrition', axis=1)\n",
        "y = df['Attrition']\n",
        "\n",
        "# Standardize feature values for KNN\n",
        "scaler = StandardScaler()\n",
        "X_scaled = scaler.fit_transform(X)\n",
        "\n",
        "# Split the dataset into training and testing sets\n",
        "X_train, X_test, y_train, y_test = train_test_split(X_scaled, y, test_size=0.2, random_state=42)\n",
        "\n",
        "# Initialize and train the KNN classifier\n",
        "knn = KNeighborsClassifier(n_neighbors=3)\n",
        "knn.fit(X_train, y_train)\n",
        "\n",
        "# Predict attrition on the test set\n",
        "y_pred = knn.predict(X_test)\n",
        "\n",
        "# Print accuracy and detailed evaluation metrics\n",
        "print(\"Accuracy:\", accuracy_score(y_test, y_pred))\n",
        "print(classification_report(y_test, y_pred, zero_division=0))\n"
      ]
    }
  ]
}