{
  "nbformat": 4,
  "nbformat_minor": 0,
  "metadata": {
    "colab": {
      "provenance": [],
      "authorship_tag": "ABX9TyNLenPZnY2ixA29TzkYAVaG",
      "include_colab_link": true
    },
    "kernelspec": {
      "name": "python3",
      "display_name": "Python 3"
    },
    "language_info": {
      "name": "python"
    }
  },
  "cells": [
    {
      "cell_type": "markdown",
      "metadata": {
        "id": "view-in-github",
        "colab_type": "text"
      },
      "source": [
        "<a href=\"https://colab.research.google.com/github/palfans/HCL_GENAI_TRAINING/blob/main/house-price-prediction-deep-learning-3d-plot.ipynb\" target=\"_parent\"><img src=\"https://colab.research.google.com/assets/colab-badge.svg\" alt=\"Open In Colab\"/></a>"
      ]
    },
    {
      "cell_type": "code",
      "source": [
        "import pandas as pd\n",
        "import numpy as np\n",
        "import matplotlib.pyplot as plt\n",
        "from mpl_toolkits.mplot3d import Axes3D\n",
        "from sklearn.model_selection import train_test_split\n",
        "from sklearn.preprocessing import StandardScaler\n",
        "from keras.models import Sequential\n",
        "from keras.layers import Input, Dense\n",
        "\n",
        "dataset_url = \"https://raw.githubusercontent.com/enuguru/aiandml/refs/heads/master/machine_learning_algorithms_using_frameworks/python_files/regression/house_price_prediction/home.csv\"\n",
        "data = pd.read_csv(dataset_url, encoding='utf-8-sig', header=None)\n",
        "data.columns = ['sqft', 'bedrooms', 'price']\n",
        "\n",
        "features = data[['sqft', 'bedrooms']]\n",
        "target = data['price']\n",
        "\n",
        "x_train, x_test, y_train, y_test = train_test_split(features, target, test_size=0.2, random_state=42)\n",
        "\n",
        "scaler_x = StandardScaler()\n",
        "x_train_scaled = scaler_x.fit_transform(x_train)\n",
        "x_test_scaled = scaler_x.transform(x_test)\n",
        "\n",
        "scaler_y = StandardScaler()\n",
        "y_train_scaled = scaler_y.fit_transform(y_train.values.reshape(-1, 1))\n",
        "y_test_scaled = scaler_y.transform(y_test.values.reshape(-1, 1))\n",
        "\n",
        "model = Sequential()\n",
        "model.add(Input(shape=(2,)))\n",
        "model.add(Dense(64, activation='relu'))\n",
        "model.add(Dense(32, activation='relu'))\n",
        "model.add(Dense(16, activation='relu'))\n",
        "model.add(Dense(8, activation='relu'))\n",
        "model.add(Dense(1))\n",
        "model.compile(optimizer='adam', loss='mse')\n",
        "model.fit(x_train_scaled, y_train_scaled, epochs=50, batch_size=5, verbose=1, validation_split=0.1)\n",
        "\n",
        "\n",
        "sqft_range = np.linspace(features['sqft'].min(), features['sqft'].max(), 50)\n",
        "bedrooms_range = np.linspace(features['bedrooms'].min(), features['bedrooms'].max(), 50)\n",
        "sqft_grid, bedrooms_grid = np.meshgrid(sqft_range, bedrooms_range)\n",
        "input_grid = np.c_[sqft_grid.ravel(), bedrooms_grid.ravel()]\n",
        "input_grid_df = pd.DataFrame(input_grid, columns=['sqft', 'bedrooms'])\n",
        "input_grid_scaled = scaler_x.transform(input_grid_df)\n",
        "predicted_prices_scaled = model.predict(input_grid_scaled)\n",
        "predicted_prices = scaler_y.inverse_transform(predicted_prices_scaled)\n",
        "\n",
        "fig = plt.figure(figsize=(12, 8))\n",
        "ax = fig.add_subplot(111, projection='3d')\n",
        "\n",
        "ax.plot_surface(sqft_grid, bedrooms_grid,\n",
        "                predicted_prices.reshape(sqft_grid.shape),\n",
        "                color='cyan', alpha=0.6, linewidth=0, antialiased=False)\n",
        "ax.scatter(features['sqft'], features['bedrooms'], target, c='r', marker='o')\n",
        "\n",
        "ax.set_xlabel('Sqft')\n",
        "ax.set_ylabel('Bedrooms')\n",
        "ax.set_zlabel('Price')\n",
        "ax.set_title('3D House Price Prediction with Deep Learning')\n",
        "plt.show()"
      ],
      "metadata": {
        "id": "AziiPLlss254"
      },
      "execution_count": null,
      "outputs": []
    }
  ]
}