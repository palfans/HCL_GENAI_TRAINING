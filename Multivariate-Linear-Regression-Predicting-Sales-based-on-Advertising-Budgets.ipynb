{
  "nbformat": 4,
  "nbformat_minor": 0,
  "metadata": {
    "colab": {
      "provenance": [],
      "authorship_tag": "ABX9TyPXJVIe+UOT2DUOOHNp4bT7"
    },
    "kernelspec": {
      "name": "python3",
      "display_name": "Python 3"
    },
    "language_info": {
      "name": "python"
    }
  },
  "cells": [
    {
      "cell_type": "code",
      "execution_count": 3,
      "metadata": {
        "colab": {
          "base_uri": "https://localhost:8080/"
        },
        "id": "P7W4Q4KTiF2d",
        "outputId": "96ee576c-2152-4b25-86cf-1348ef69469f"
      },
      "outputs": [
        {
          "output_type": "stream",
          "name": "stdout",
          "text": [
            "Regression coefficients (weights for each budget): [ 0.07045872  0.176354   -0.05711555]\n",
            "Intercept: 3.2207019780103145\n",
            "Please enter the advertising budgets:\n",
            "Enter TV Budget ($): 230.1\n",
            "Enter Radio Budget ($): 37.8\n",
            "Enter Newspaper Budget ($): 69.2\n",
            "Predicted sales for [TV=230.1, Radio=37.8, Newspaper=69.2]: 22.15\n"
          ]
        }
      ],
      "source": [
        "# Multivariate Linear Regression: Predicting Sales based on Advertising Budgets\n",
        "\n",
        "import pandas as pd\n",
        "from sklearn.linear_model import LinearRegression\n",
        "\n",
        "# Create the dataset\n",
        "data = [\n",
        "    [230.1, 37.8, 69.2, 22.1],\n",
        "    [44.5, 39.3, 45.1, 10.4],\n",
        "    [17.2, 45.9, 69.3, 9.3],\n",
        "    [151.5, 41.3, 58.5, 18.5],\n",
        "    [180.8, 10.8, 58.4, 12.9],\n",
        "    [8.7, 48.9, 75.0, 7.2],\n",
        "    [57.5, 32.8, 23.5, 11.8],\n",
        "    [120.2, 19.6, 11.6, 13.2],\n",
        "    [144.1, 16.0, 40.3, 15.6],\n",
        "    [111.6, 12.6, 37.9, 12.2]\n",
        "]\n",
        "columns = ['TV', 'Radio', 'Newspaper', 'Sales']\n",
        "df = pd.DataFrame(data, columns=columns)\n",
        "\n",
        "# Separate features and target\n",
        "X = df[['TV', 'Radio', 'Newspaper']]\n",
        "y = df['Sales']\n",
        "\n",
        "# Build and train the model\n",
        "model = LinearRegression()\n",
        "model.fit(X, y)\n",
        "\n",
        "# Output regression coefficients and intercept\n",
        "print(\"Regression coefficients (weights for each budget):\", model.coef_)\n",
        "print(\"Intercept:\", model.intercept_)\n",
        "\n",
        "# Predict a sample input\n",
        "print(\"Please enter the advertising budgets:\")\n",
        "tv_budget = float(input(\"Enter TV Budget ($): \"))\n",
        "radio_budget = float(input(\"Enter Radio Budget ($): \"))\n",
        "newspaper_budget = float(input(\"Enter Newspaper Budget ($): \"))\n",
        "\n",
        "pred_input = pd.DataFrame(\n",
        "    [[tv_budget, radio_budget, newspaper_budget]],\n",
        "    columns=['TV', 'Radio', 'Newspaper']\n",
        ")\n",
        "pred_sales = model.predict(pred_input)\n",
        "print(f\"Predicted sales for [TV={tv_budget}, Radio={radio_budget}, Newspaper={newspaper_budget}]: {pred_sales[0]:.2f}\")\n",
        "\n"
      ]
    }
  ]
}