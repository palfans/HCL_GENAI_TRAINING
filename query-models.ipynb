{
  "nbformat": 4,
  "nbformat_minor": 0,
  "metadata": {
    "colab": {
      "provenance": [],
      "authorship_tag": "ABX9TyP8uRmlRwIh7Gh53vnYEB49"
    },
    "kernelspec": {
      "name": "python3",
      "display_name": "Python 3"
    },
    "language_info": {
      "name": "python"
    }
  },
  "cells": [
    {
      "cell_type": "code",
      "execution_count": null,
      "metadata": {
        "id": "7ZP6-fhW0SIl"
      },
      "outputs": [],
      "source": [
        "import requests\n",
        "\n",
        "def list_mistral_official_models():\n",
        "    api_key = input(\"Please input the Mistral AI API KEY: \").strip()\n",
        "    if not api_key:\n",
        "        print(\"API KEY Cannot be empty!\")\n",
        "        return\n",
        "    url = \"https://api.mistral.ai/v1/models\"\n",
        "    headers = {\"Authorization\": f\"Bearer {api_key}\"}\n",
        "    try:\n",
        "        resp = requests.get(url, headers=headers, timeout=10)\n",
        "        resp.raise_for_status()\n",
        "        data = resp.json()\n",
        "        print(\"Mistral models:\")\n",
        "        for m in data.get('data', []):\n",
        "            print(\"-\", m[\"id\"])\n",
        "    except requests.RequestException as err:\n",
        "        print(\"Error: \", err)\n",
        "    except Exception as e:\n",
        "        print(\"Exception: \", e)\n",
        "\n",
        "if __name__ == \"__main__\":\n",
        "    list_mistral_official_models()\n"
      ]
    }
  ]
}